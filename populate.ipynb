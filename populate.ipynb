{
 "cells": [
  {
   "cell_type": "markdown",
   "metadata": {},
   "source": [
    "# Population de la BDD"
   ]
  },
  {
   "cell_type": "code",
   "execution_count": 13,
   "metadata": {},
   "outputs": [
    {
     "name": "stdout",
     "output_type": "stream",
     "text": [
      "Note: you may need to restart the kernel to use updated packages.Defaulting to user installation because normal site-packages is not writeable\n",
      "\n"
     ]
    },
    {
     "name": "stderr",
     "output_type": "stream",
     "text": [
      "ERROR: Could not find a version that satisfies the requirement pyhwmonitor (from versions: none)\n",
      "\n",
      "[notice] A new release of pip is available: 24.3.1 -> 25.0.1\n",
      "[notice] To update, run: python.exe -m pip install --upgrade pip\n",
      "ERROR: No matching distribution found for pyhwmonitor\n"
     ]
    }
   ],
   "source": [
    "pip install pyhwmonitor influxdb-client"
   ]
  },
  {
   "cell_type": "code",
   "execution_count": null,
   "metadata": {},
   "outputs": [],
   "source": [
    "import time\n",
    "import influxdb_client\n",
    "from influxdb_client.client.write_api import SYNCHRONOUS\n",
    "from pyhwmonitor.core import SensorMonitor\n",
    "\n",
    "# Connexion InfluxDB\n",
    "INFLUXDB_URL = \"http://localhost:8086\"\n",
    "INFLUXDB_TOKEN = \"my-secret-token\"\n",
    "INFLUXDB_ORG = \"my-org\"\n",
    "INFLUXDB_BUCKET = \"my-bucket\"\n"
   ]
  },
  {
   "cell_type": "code",
   "execution_count": 12,
   "metadata": {},
   "outputs": [
    {
     "name": "stdout",
     "output_type": "stream",
     "text": [
      "📡 Envoi des températures à InfluxDB...\n"
     ]
    },
    {
     "ename": "NameError",
     "evalue": "name 'SensorMonitor' is not defined",
     "output_type": "error",
     "traceback": [
      "\u001b[1;31m---------------------------------------------------------------------------\u001b[0m",
      "\u001b[1;31mNameError\u001b[0m                                 Traceback (most recent call last)",
      "Cell \u001b[1;32mIn[12], line 36\u001b[0m\n\u001b[0;32m     33\u001b[0m         client\u001b[38;5;241m.\u001b[39mclose()\n\u001b[0;32m     35\u001b[0m \u001b[38;5;28;01mif\u001b[39;00m \u001b[38;5;18m__name__\u001b[39m \u001b[38;5;241m==\u001b[39m \u001b[38;5;124m\"\u001b[39m\u001b[38;5;124m__main__\u001b[39m\u001b[38;5;124m\"\u001b[39m:\n\u001b[1;32m---> 36\u001b[0m     \u001b[43mmain\u001b[49m\u001b[43m(\u001b[49m\u001b[43m)\u001b[49m\n",
      "Cell \u001b[1;32mIn[12], line 22\u001b[0m, in \u001b[0;36mmain\u001b[1;34m()\u001b[0m\n\u001b[0;32m     20\u001b[0m \u001b[38;5;28;01mtry\u001b[39;00m:\n\u001b[0;32m     21\u001b[0m     \u001b[38;5;28;01mwhile\u001b[39;00m \u001b[38;5;28;01mTrue\u001b[39;00m:\n\u001b[1;32m---> 22\u001b[0m         points \u001b[38;5;241m=\u001b[39m \u001b[43mget_windows_temperatures\u001b[49m\u001b[43m(\u001b[49m\u001b[43m)\u001b[49m\n\u001b[0;32m     23\u001b[0m         \u001b[38;5;28;01mif\u001b[39;00m points:\n\u001b[0;32m     24\u001b[0m             write_api\u001b[38;5;241m.\u001b[39mwrite(bucket\u001b[38;5;241m=\u001b[39mINFLUXDB_BUCKET, org\u001b[38;5;241m=\u001b[39mINFLUXDB_ORG, record\u001b[38;5;241m=\u001b[39mpoints)\n",
      "Cell \u001b[1;32mIn[12], line 5\u001b[0m, in \u001b[0;36mget_windows_temperatures\u001b[1;34m()\u001b[0m\n\u001b[0;32m      4\u001b[0m \u001b[38;5;28;01mdef\u001b[39;00m\u001b[38;5;250m \u001b[39m\u001b[38;5;21mget_windows_temperatures\u001b[39m():\n\u001b[1;32m----> 5\u001b[0m     monitor \u001b[38;5;241m=\u001b[39m \u001b[43mSensorMonitor\u001b[49m()\n\u001b[0;32m      6\u001b[0m     monitor\u001b[38;5;241m.\u001b[39mscan()\n\u001b[0;32m      7\u001b[0m     data_points \u001b[38;5;241m=\u001b[39m []\n",
      "\u001b[1;31mNameError\u001b[0m: name 'SensorMonitor' is not defined"
     ]
    }
   ],
   "source": [
    "client = influxdb_client.InfluxDBClient(url=INFLUXDB_URL, token=INFLUXDB_TOKEN, org=INFLUXDB_ORG)\n",
    "write_api = client.write_api(write_options=SYNCHRONOUS)\n",
    "\n",
    "def get_windows_temperatures():\n",
    "    monitor = SensorMonitor()\n",
    "    monitor.scan()\n",
    "    data_points = []\n",
    "    \n",
    "    for sensor in monitor.cpu_temperatures():\n",
    "        point = influxdb_client.Point(\"temperature\")\\\n",
    "            .tag(\"sensor\", \"CPU\")\\\n",
    "            .tag(\"label\", sensor.label)\\\n",
    "            .field(\"value\", sensor.value)\n",
    "        data_points.append(point)\n",
    "    \n",
    "    return data_points\n",
    "\n",
    "def main():\n",
    "    print(\"📡 Envoi des températures à InfluxDB...\")\n",
    "    try:\n",
    "        while True:\n",
    "            points = get_windows_temperatures()\n",
    "            if points:\n",
    "                write_api.write(bucket=INFLUXDB_BUCKET, org=INFLUXDB_ORG, record=points)\n",
    "                print(f\"✅ {len(points)} mesures envoyées à InfluxDB.\")\n",
    "            else:\n",
    "                print(\"⚠️ Aucune température détectée.\")\n",
    "\n",
    "            time.sleep(5)\n",
    "    except KeyboardInterrupt:\n",
    "        print(\"\\n⏹ Arrêt du script.\")\n",
    "    finally:\n",
    "        client.close()\n",
    "\n",
    "if __name__ == \"__main__\":\n",
    "    main()"
   ]
  }
 ],
 "metadata": {
  "kernelspec": {
   "display_name": "Python 3",
   "language": "python",
   "name": "python3"
  },
  "language_info": {
   "codemirror_mode": {
    "name": "ipython",
    "version": 3
   },
   "file_extension": ".py",
   "mimetype": "text/x-python",
   "name": "python",
   "nbconvert_exporter": "python",
   "pygments_lexer": "ipython3",
   "version": "3.12.6"
  }
 },
 "nbformat": 4,
 "nbformat_minor": 2
}
