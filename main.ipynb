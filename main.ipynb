{
 "cells": [
  {
   "cell_type": "code",
   "execution_count": 1,
   "metadata": {},
   "outputs": [
    {
     "ename": "SyntaxError",
     "evalue": "unterminated string literal (detected at line 29) (4291661709.py, line 29)",
     "output_type": "error",
     "traceback": [
      "\u001b[0;36m  Cell \u001b[0;32mIn[1], line 29\u001b[0;36m\u001b[0m\n\u001b[0;31m    Nous allons insérer une mesure simple (ex: température d'un capteur).\u001b[0m\n\u001b[0m                                                            ^\u001b[0m\n\u001b[0;31mSyntaxError\u001b[0m\u001b[0;31m:\u001b[0m unterminated string literal (detected at line 29)\n"
     ]
    }
   ],
   "source": [
    "\"\"\"\n",
    "\n",
    "# %% [markdown]\n",
    "\"\"\"\n",
    "## 🔗 Connexion à InfluxDB\n",
    "Nous allons utiliser le client `influxdb-client` pour nous connecter à notre base de données.\n",
    "\"\"\"\n",
    "\n",
    "# %%\n",
    "import influxdb_client\n",
    "from influxdb_client.client.write_api import SYNCHRONOUS\n",
    "\n",
    "# Paramètres de connexion\n",
    "url = \"http://influxdb:8086\"\n",
    "token = \"my-secret-token\"\n",
    "org = \"my-org\"\n",
    "bucket = \"my-bucket\"\n",
    "\n",
    "# Création du client\n",
    "client = influxdb_client.InfluxDBClient(url=url, token=token, org=org)\n",
    "write_api = client.write_api(write_options=SYNCHRONOUS)\n",
    "query_api = client.query_api()\n",
    "\n",
    "print(\"✅ Connexion réussie à InfluxDB!\")\n",
    "\n",
    "# %% [markdown]\n",
    "\"\"\"\n",
    "## 📊 Insertion de Données\n",
    "Nous allons insérer une mesure simple (ex: température d'un capteur).\n",
    "\"\"\"\n",
    "\n",
    "# %%\n",
    "data = \"temperature,sensor_id=1 value=22.5\"\n",
    "write_api.write(bucket=bucket, org=org, record=data)\n",
    "print(\"✅ Donnée insérée avec succès!\")\n",
    "\n",
    "# %% [markdown]\n",
    "\"\"\"\n",
    "## 🔍 Lecture des Données\n",
    "Nous allons récupérer les données insérées à l'aide d'une requête.\n",
    "\"\"\"\n",
    "\n",
    "# %%\n",
    "query = f\"\"\"\n",
    "from(bucket: \"{bucket}\")\n",
    "|> range(start: -1h)\n",
    "\"\"\"\n",
    "\n",
    "result = query_api.query(org=org, query=query)\n",
    "\n",
    "# Affichage des résultats\n",
    "for table in result:\n",
    "  for record in table.records:\n",
    "      print(f\"📌 {record.values}\")\n",
    "\n",
    "print(\"✅ Requête exécutée avec succès!\")\n",
    "\n",
    "# %% [markdown]\n",
    "\"\"\"\n",
    "## 🚀 Conclusion\n",
    "Nous avons appris à :\n",
    "1. **Se connecter** à InfluxDB.\n",
    "2. **Écrire des données** dans la base.\n",
    "3. **Lire et afficher des données** avec une requête.\n",
    "\n",
    "Vous pouvez maintenant explorer InfluxDB plus en détail en testant différentes métriques et requêtes ! 🎯\n",
    "\"\"\"\n",
    "\n",
    "# %% [markdown]\n",
    "\"\"\"\n",
    "## ❌ Fermeture de la connexion\n",
    "Toujours fermer la connexion après utilisation pour libérer les ressources.\n",
    "\"\"\"\n",
    "\n",
    "# %%\n",
    "client.close()\n",
    "print(\"✅ Connexion fermée.\")\n"
   ]
  }
 ],
 "metadata": {
  "kernelspec": {
   "display_name": "Python 3 (ipykernel)",
   "language": "python",
   "name": "python3"
  },
  "language_info": {
   "codemirror_mode": {
    "name": "ipython",
    "version": 3
   },
   "file_extension": ".py",
   "mimetype": "text/x-python",
   "name": "python",
   "nbconvert_exporter": "python",
   "pygments_lexer": "ipython3",
   "version": "3.11.6"
  }
 },
 "nbformat": 4,
 "nbformat_minor": 2
}
