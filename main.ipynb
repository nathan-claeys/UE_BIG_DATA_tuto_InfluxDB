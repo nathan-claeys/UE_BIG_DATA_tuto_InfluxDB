{
 "cells": [
  {
   "cell_type": "markdown",
   "metadata": {},
   "source": [
    "# Tutoriel pour **InfluxDB**\n",
    "\n",
    "Bienvenue sur ce tutoriel ! Vous allez découvrir les principales fonctionnalitées de InfluxDB, une base de donnée non relationnelle orientée séries temporelles.\n",
    "Elle peut être utilisée dans de nombreux domaines, en stockant par exemple :\n",
    "    - les données des capteurs industriels,\n",
    "    - les métriques de performance des serveurs,\n",
    "    - les mesures des précipitations,\n",
    "    - le cours en bourse."
   ]
  },
  {
   "cell_type": "markdown",
   "metadata": {},
   "source": [
    "## ❓ Comment se présente la base de donnée ?\n",
    "\n",
    "L'équivalent d'une occurance est un *point* qui est composé d'un *timestamp*, *measurement*, *tag keys*, *tag values* et *field key*.\n",
    "Un groupe de points avec les mêmes mesurements, tags et fields sont appelées des séries temporelles (*time series*)\n",
    "\n",
    "Les données sont organisées dans des *buckets*. Chaque bucket peut contenir plusieurs mesures (*mesurements*)  différentes.\n",
    "Une mesure contiennent un timestamp et plusieurs *tags* et *fields*.\n",
    "Les tags sont des paires clef-valeur dont les valeurs ne changent pas souvent. Ils sont indexés donc ils permettents d'organiser rapidement les données. Par exemple, cela peut être le lieu d'une expérience fixe, ou le nom de l'appareillage.\n",
    "Les fields sont des paires clef-valeurs qui changent au cours du temps. Ils ne sont pas indexées. Par exemple, cela peut être la température ou la pression mesurée.\n",
    "\n"
   ]
  },
  {
   "cell_type": "markdown",
   "metadata": {},
   "source": [
    "![alt text](data/image.png)\n",
    "\n",
    "*Source: https://docs.influxdata.com*"
   ]
  },
  {
   "cell_type": "code",
   "execution_count": 3,
   "metadata": {},
   "outputs": [],
   "source": [
    "import influxdb_client\n",
    "from influxdb_client.client.write_api import SYNCHRONOUS"
   ]
  },
  {
   "cell_type": "code",
   "execution_count": 4,
   "metadata": {},
   "outputs": [],
   "source": [
    "# Paramètres de connexion\n",
    "url = \"http://influxdb:8086\"\n",
    "token = \"my-secret-token\"\n",
    "org = \"my-org\"\n",
    "bucket = \"my-bucket\""
   ]
  },
  {
   "cell_type": "code",
   "execution_count": 5,
   "metadata": {},
   "outputs": [
    {
     "name": "stdout",
     "output_type": "stream",
     "text": [
      "✅ Connexion réussie à InfluxDB!\n"
     ]
    }
   ],
   "source": [
    "# Création du client\n",
    "client = influxdb_client.InfluxDBClient(url=url, token=token, org=org)\n",
    "write_api = client.write_api(write_options=SYNCHRONOUS)\n",
    "query_api = client.query_api()\n",
    "\n",
    "print(\"✅ Connexion réussie à InfluxDB!\")"
   ]
  },
  {
   "cell_type": "code",
   "execution_count": 6,
   "metadata": {},
   "outputs": [
    {
     "name": "stdout",
     "output_type": "stream",
     "text": [
      "Population de la base de données avec les données du fichier... data/air-sensor-data.txt\n",
      "Population terminée!\n"
     ]
    }
   ],
   "source": [
    "# Population de la base de données\n",
    "# Chemin du fichier contenant les données\n",
    "FILENAME = \"data/air-sensor-data.txt\"\n",
    "print(\"Population de la base de données avec les données du fichier...\", FILENAME)\n",
    "with open(FILENAME, \"r\") as file:\n",
    "    for line in file:\n",
    "        write_api.write(bucket=bucket, org=org, record=line)\n",
    "print(\"Population terminée!\")\n"
   ]
  },
  {
   "cell_type": "markdown",
   "metadata": {},
   "source": [
    "### 📊 Insertion de Données\n",
    "Nous allons insérer une mesure simple (ex: température d'un capteur).\n"
   ]
  },
  {
   "cell_type": "code",
   "execution_count": 23,
   "metadata": {},
   "outputs": [
    {
     "name": "stdout",
     "output_type": "stream",
     "text": [
      "✅ Donnée insérée avec succès!\n"
     ]
    }
   ],
   "source": [
    "data = \"temperature,sensor_id=1 value=22.5\"\n",
    "write_api.write(bucket=bucket, org=org, record=data)\n",
    "print(\"✅ Donnée insérée avec succès!\")"
   ]
  },
  {
   "cell_type": "markdown",
   "metadata": {},
   "source": [
    "### 🔍 Lecture des Données\n",
    "Nous allons récupérer les données insérées à l'aide d'une requête.\n"
   ]
  },
  {
   "cell_type": "code",
   "execution_count": 25,
   "metadata": {},
   "outputs": [
    {
     "name": "stdout",
     "output_type": "stream",
     "text": [
      "📌 {'result': '_result', 'table': 0, '_start': datetime.datetime(2025, 2, 18, 13, 5, 41, 702135, tzinfo=datetime.timezone.utc), '_stop': datetime.datetime(2025, 2, 18, 14, 5, 41, 702135, tzinfo=datetime.timezone.utc), '_time': datetime.datetime(2025, 2, 18, 13, 23, 42, 465555, tzinfo=datetime.timezone.utc), '_value': 22.5, '_field': 'value', '_measurement': 'temperature', 'sensor_id': '1'}\n",
      "📌 {'result': '_result', 'table': 0, '_start': datetime.datetime(2025, 2, 18, 13, 5, 41, 702135, tzinfo=datetime.timezone.utc), '_stop': datetime.datetime(2025, 2, 18, 14, 5, 41, 702135, tzinfo=datetime.timezone.utc), '_time': datetime.datetime(2025, 2, 18, 13, 33, 33, 35821, tzinfo=datetime.timezone.utc), '_value': 22.5, '_field': 'value', '_measurement': 'temperature', 'sensor_id': '1'}\n",
      "📌 {'result': '_result', 'table': 0, '_start': datetime.datetime(2025, 2, 18, 13, 5, 41, 702135, tzinfo=datetime.timezone.utc), '_stop': datetime.datetime(2025, 2, 18, 14, 5, 41, 702135, tzinfo=datetime.timezone.utc), '_time': datetime.datetime(2025, 2, 18, 14, 5, 2, 152829, tzinfo=datetime.timezone.utc), '_value': 22.5, '_field': 'value', '_measurement': 'temperature', 'sensor_id': '1'}\n",
      "✅ Requête exécutée avec succès!\n"
     ]
    }
   ],
   "source": [
    "query = f\"\"\"\n",
    "from(bucket: \"{bucket}\")\n",
    "|> range(start: -1h)\n",
    "\"\"\"\n",
    "\n",
    "result = query_api.query(org=org, query=query)\n",
    "\n",
    "# Affichage des résultats\n",
    "for table in result:\n",
    "  for record in table.records:\n",
    "      print(f\"📌 {record.values}\")\n",
    "\n",
    "print(\"✅ Requête exécutée avec succès!\")\n"
   ]
  },
  {
   "cell_type": "markdown",
   "metadata": {},
   "source": [
    "### ❌ Fermeture de la connexion\n",
    "Toujours fermer la connexion après utilisation pour libérer les ressources.\n"
   ]
  },
  {
   "cell_type": "code",
   "execution_count": null,
   "metadata": {},
   "outputs": [
    {
     "name": "stdout",
     "output_type": "stream",
     "text": [
      "✅ Connexion fermée.\n"
     ]
    }
   ],
   "source": [
    "client.close()\n",
    "print(\"✅ Connexion fermée.\")"
   ]
  }
 ],
 "metadata": {
  "kernelspec": {
   "display_name": "Python 3 (ipykernel)",
   "language": "python",
   "name": "python3"
  },
  "language_info": {
   "codemirror_mode": {
    "name": "ipython",
    "version": 3
   },
   "file_extension": ".py",
   "mimetype": "text/x-python",
   "name": "python",
   "nbconvert_exporter": "python",
   "pygments_lexer": "ipython3",
   "version": "3.11.6"
  }
 },
 "nbformat": 4,
 "nbformat_minor": 2
}
